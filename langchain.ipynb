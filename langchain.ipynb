{
 "cells": [
  {
   "cell_type": "code",
   "execution_count": 2,
   "metadata": {},
   "outputs": [
    {
     "name": "stderr",
     "output_type": "stream",
     "text": [
      "c:\\Users\\91849\\AppData\\Local\\Programs\\Python\\Python311\\Lib\\site-packages\\pinecone\\index.py:4: TqdmExperimentalWarning: Using `tqdm.autonotebook.tqdm` in notebook mode. Use `tqdm.tqdm` instead to force console mode (e.g. in jupyter console)\n",
      "  from tqdm.autonotebook import tqdm\n"
     ]
    }
   ],
   "source": [
    "from langchain.document_loaders import UnstructuredPDFLoader, OnlinePDFLoader, PyPDFLoader\n",
    "\n",
    "from langchain.text_splitter import RecursiveCharacterTextSplitter\n",
    "\n",
    "import pinecone\n",
    "loader = PyPDFLoader(\"datascience.pdf\")\n"
   ]
  },
  {
   "cell_type": "code",
   "execution_count": 4,
   "metadata": {},
   "outputs": [],
   "source": [
    "data = loader.load()\n"
   ]
  },
  {
   "cell_type": "code",
   "execution_count": 7,
   "metadata": {},
   "outputs": [
    {
     "name": "stdout",
     "output_type": "stream",
     "text": [
      "You have 126 document(s) in your data\n",
      "There are 2812 characters in your document\n"
     ]
    }
   ],
   "source": [
    "print (f'You have {len(data)} document(s) in your data')\n",
    "print (f'There are {len(data[30].page_content)} characters in your document')"
   ]
  },
  {
   "cell_type": "code",
   "execution_count": 6,
   "metadata": {},
   "outputs": [],
   "source": [
    "text_splitter = RecursiveCharacterTextSplitter(chunk_size=2000, chunk_overlap=0)\n",
    "texts = text_splitter.split_documents(data)\n"
   ]
  },
  {
   "cell_type": "markdown",
   "metadata": {},
   "source": [
    "print (f'Now you have {len(texts)} documents')\n"
   ]
  },
  {
   "cell_type": "code",
   "execution_count": 14,
   "metadata": {},
   "outputs": [],
   "source": [
    "import os\n",
    "from langchain.vectorstores import Chroma, Pinecone\n",
    "from langchain.embeddings.openai import OpenAIEmbeddings\n",
    "import pinecone\n",
    "\n",
    "# Load environment variables from the .env file\n",
    "with open('.env', 'r') as env_file:\n",
    "    for line in env_file:\n",
    "        variable, value = line.strip().split('=')\n",
    "        os.environ[variable] = value\n",
    "\n",
    "# Access environment variables as needed\n",
    "Openai_api_key = os.environ.get('openai_api_key', '')\n",
    "pinecone_api_key = os.environ.get('PINECONE_API_KEY', '')\n",
    "pinecone_environment = os.environ.get('PINECONE_ENVIRONMENT', '')\n",
    "\n",
    "# Initialize Pinecone with the loaded API key and environment\n",
    "pinecone.init(api_key=pinecone_api_key, environment=pinecone_environment)\n",
    "\n",
    "# Use the loaded OpenAI API key in your OpenAIEmbeddings constructor\n",
    "embeddings = OpenAIEmbeddings(openai_api_key=Openai_api_key)\n"
   ]
  },
  {
   "cell_type": "code",
   "execution_count": 9,
   "metadata": {},
   "outputs": [],
   "source": [
    "index_name=\"pine\"\n",
    "docsearch = Pinecone.from_texts([t.page_content for t in texts], embeddings, index_name=index_name)\n",
    "query = \"How does data science actually works?\"\n",
    "docs = docsearch.similarity_search(query)"
   ]
  },
  {
   "cell_type": "code",
   "execution_count": null,
   "metadata": {},
   "outputs": [
    {
     "name": "stdout",
     "output_type": "stream",
     "text": [
      "How does Data Science  \n",
      "Actually Work?\n",
      "It’s not rocket science… it’s something better - Data Science\n",
      "Let’s not kid ourselves - Data Science is a complex field. It is difficult, \n",
      "intellectually taxing work, which requires the sophisticated integration \n",
      "of talent, tools and techniques. But as a field guide, we need to cut \n",
      "through the complexity and provide a clear, yet effective way to \n",
      "understand this new world. \n",
      "To do this, we will transform the field of Data Science into a set of \n",
      "simplified activities as shown in the figure, The Four Key Activities of a \n",
      "Data Science Endeavor . Data Science purists will likely disagree with \n",
      "this approach, but then again, they probably don’t need a field guide, \n",
      "sitting as they do in their ivory towers! In the real world, we need \n",
      "clear and simple operating models to help drive us forward. \n",
      "THE FIELD  GUIDE to  DATA  SCIENCE\n"
     ]
    }
   ],
   "source": [
    "print(docs[0].page_content[:1000])\n"
   ]
  },
  {
   "cell_type": "code",
   "execution_count": 10,
   "metadata": {},
   "outputs": [],
   "source": [
    "from langchain.llms import OpenAI\n",
    "from langchain.chains.question_answering import load_qa_chain\n"
   ]
  },
  {
   "cell_type": "code",
   "execution_count": 26,
   "metadata": {},
   "outputs": [],
   "source": []
  },
  {
   "cell_type": "code",
   "execution_count": 30,
   "metadata": {},
   "outputs": [
    {
     "data": {
      "text/plain": [
       "' No, data science is not a threat. It is a tool that can be used to create insights and help us better understand the world around us.'"
      ]
     },
     "execution_count": 30,
     "metadata": {},
     "output_type": "execute_result"
    }
   ],
   "source": [
    "import os \n",
    "with open('.env', 'r') as env_file:\n",
    "    for line in env_file:\n",
    "        variable, value = line.strip().split('=')\n",
    "        os.environ[variable] = value\n",
    "\n",
    "# Access environment variables as needed\n",
    "Openai_api_key = os.environ.get('openai_api_key', '')\n",
    "llm = OpenAI(temperature=0, openai_api_key=Openai_api_key)\n",
    "chain = load_qa_chain(llm, chain_type=\"stuff\")\n",
    "\n",
    "docsearch = Pinecone.from_texts([t.page_content for t in texts], embeddings, index_name=index_name)\n",
    "\n",
    "query = \"is data science a threat ?\"\n",
    "docs = docsearch.similarity_search(query)\n",
    "chain.run(input_documents=docs, question=query)\n"
   ]
  }
 ],
 "metadata": {
  "kernelspec": {
   "display_name": "Python 3",
   "language": "python",
   "name": "python3"
  },
  "language_info": {
   "codemirror_mode": {
    "name": "ipython",
    "version": 3
   },
   "file_extension": ".py",
   "mimetype": "text/x-python",
   "name": "python",
   "nbconvert_exporter": "python",
   "pygments_lexer": "ipython3",
   "version": "3.11.3"
  },
  "orig_nbformat": 4
 },
 "nbformat": 4,
 "nbformat_minor": 2
}
